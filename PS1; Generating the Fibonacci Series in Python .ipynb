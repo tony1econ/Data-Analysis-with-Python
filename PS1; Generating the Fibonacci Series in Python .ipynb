{
 "cells": [
  {
   "cell_type": "markdown",
   "id": "852a8fe7-76c5-4947-909a-69be44ce2a78",
   "metadata": {},
   "source": [
    "# Antonio Pagano"
   ]
  },
  {
   "cell_type": "markdown",
   "id": "9abae791-d162-406c-9be0-b456d0505df7",
   "metadata": {},
   "source": [
    "# Instructions\n",
    "\n",
    "* Change \"Your Name Here\" to your name.\n",
    "* Fill in the empty chunks with your code. \n",
    "* Do not add any code chunks in your final submission besides the ones already here. \n",
    "* Use **no** additional modules. "
   ]
  },
  {
   "cell_type": "markdown",
   "id": "2a460057-ba90-4144-ad4f-5e326f1cc70f",
   "metadata": {},
   "source": [
    "# Question 1\n",
    "\n",
    "Create a list called `x_values` that contains the first twenty integers in steps of 2."
   ]
  },
  {
   "cell_type": "code",
   "execution_count": 2,
   "id": "043f2021-c2ba-4ab8-945b-8077e70c9b71",
   "metadata": {},
   "outputs": [],
   "source": [
    "# create x_values\n",
    "x_values=range (0,20,2)"
   ]
  },
  {
   "cell_type": "markdown",
   "id": "169ba2f3-58dd-4066-85c8-6f6a3b7cc254",
   "metadata": {},
   "source": [
    "# Question 2\n",
    "\n",
    "Write three loops that cubes each element of `X`:\n",
    "\n",
    "1. using explicit indexing\n",
    "2. using implicit indexing\n",
    "3. using list comprehension"
   ]
  },
  {
   "cell_type": "markdown",
   "id": "bccbba0f-2214-4535-b79c-3d92331c5210",
   "metadata": {},
   "source": [
    "## Explicit Indexing"
   ]
  },
  {
   "cell_type": "code",
   "execution_count": 14,
   "id": "26b37edf-9222-4802-87be-0bcc7eee24b1",
   "metadata": {},
   "outputs": [
    {
     "name": "stdout",
     "output_type": "stream",
     "text": [
      "[0, 8, 64, 216, 512, 1000, 1728, 2744, 4096, 5832]\n"
     ]
    }
   ],
   "source": [
    "# explicit indexing\n",
    "xCubedExplicitly=[]\n",
    "for i in range(len(x_values)):\n",
    "    xCubedExplicitly.append(x_values[i]**3)\n",
    "print(xCubedExplicitly)\n",
    "    "
   ]
  },
  {
   "cell_type": "markdown",
   "id": "c4eeaf8d-cca6-4fcb-9d7a-d76e8de880b5",
   "metadata": {},
   "source": [
    "## Implicit Indexing"
   ]
  },
  {
   "cell_type": "code",
   "execution_count": 16,
   "id": "e0de4cfe-66d5-4863-896b-247479c40d79",
   "metadata": {},
   "outputs": [
    {
     "name": "stdout",
     "output_type": "stream",
     "text": [
      "[0, 8, 64, 216, 512, 1000, 1728, 2744, 4096, 5832]\n"
     ]
    }
   ],
   "source": [
    "# implicit indexing\n",
    "xCubedImplicitly=[]\n",
    "for x in x_values:\n",
    "    xCubedImplicitly.append(x**3)\n",
    "print(xCubedImplicitly)\n",
    "    "
   ]
  },
  {
   "cell_type": "markdown",
   "id": "6d1d7ab0-b8f4-43b6-9722-8450ee3578f4",
   "metadata": {},
   "source": [
    "## List Comprehension"
   ]
  },
  {
   "cell_type": "code",
   "execution_count": 18,
   "id": "e495a946-60e4-4dea-a287-96f9f9dca0dc",
   "metadata": {},
   "outputs": [
    {
     "name": "stdout",
     "output_type": "stream",
     "text": [
      "[0, 8, 64, 216, 512, 1000, 1728, 2744, 4096, 5832]\n"
     ]
    }
   ],
   "source": [
    "print([x**3 for x in x_values])"
   ]
  },
  {
   "cell_type": "markdown",
   "id": "9c0a12a8-fddc-4498-80f8-cb002e135e06",
   "metadata": {},
   "source": [
    "# Question 3\n",
    "\n",
    "Write a function called `sum(X)` that sums the elements of a list. Test it on `x_values`.\n",
    "\n",
    "**Hint:** define a variable equal to zero that increments as you loop through the list. "
   ]
  },
  {
   "cell_type": "code",
   "execution_count": 24,
   "id": "9f86b444-459e-4adf-baef-6f37404f9981",
   "metadata": {},
   "outputs": [],
   "source": [
    "\n",
    "\n",
    "def sum(X):\n",
    "    incrementingvar=0\n",
    "    for x in X:\n",
    "        incrementingvar=incrementingvar+x\n",
    "    return incrementingvar\n",
    "        \n",
    "        "
   ]
  },
  {
   "cell_type": "code",
   "execution_count": 25,
   "id": "de2d3eb1-0a2d-4d7f-b126-243d3fbf1786",
   "metadata": {},
   "outputs": [
    {
     "name": "stdout",
     "output_type": "stream",
     "text": [
      "90\n"
     ]
    }
   ],
   "source": [
    "# test your function on x_values\n",
    "print(sum(x_values))"
   ]
  },
  {
   "cell_type": "markdown",
   "id": "bf0e53bf-1d42-4f97-b1dd-14ec3d479349",
   "metadata": {},
   "source": [
    "# Question 4\n",
    "\n",
    "Write a function called `mean(X)` that calculates the mean of a list. \n",
    "\n",
    "Recall the mean:\n",
    "\n",
    "$$\n",
    "\\bar{x} = \\frac{1}{n} \\sum_{i=1}^n x_i\n",
    "$$\n",
    "\n",
    "**Hint:** you already have a function that sums a list. How can you use `len()` to your advantage?"
   ]
  },
  {
   "cell_type": "code",
   "execution_count": 28,
   "id": "33cc6a69-0488-41a5-a3f1-ed9dcfc5ee47",
   "metadata": {},
   "outputs": [],
   "source": [
    "# write the function mean(X)\n",
    "def mean(X):\n",
    "    Mean=(1/len(X))*sum(X)\n",
    "    return Mean "
   ]
  },
  {
   "cell_type": "code",
   "execution_count": 29,
   "id": "9ef5daa5-c3d9-4441-bf39-93d8b82665d4",
   "metadata": {},
   "outputs": [
    {
     "name": "stdout",
     "output_type": "stream",
     "text": [
      "9.0\n"
     ]
    }
   ],
   "source": [
    "# test your function on x_values\n",
    "print(mean(x_values))"
   ]
  },
  {
   "cell_type": "markdown",
   "id": "bdfed249-5f40-44fd-be5c-e1a8be2f8496",
   "metadata": {},
   "source": [
    "# Question 5"
   ]
  },
  {
   "cell_type": "markdown",
   "id": "cb227390-82c7-467a-8146-b02c56e29fec",
   "metadata": {},
   "source": [
    "Write a function called `cumsum()` that calculates the *cumulative* sum of a list. \n",
    "\n",
    "For instance, if your list is\n",
    "\n",
    "$$\n",
    "[1,2,3,4]\n",
    "$$\n",
    "\n",
    "then the cumulative sum is \n",
    "\n",
    "$$\n",
    "[1, 3, 6, 10]\n",
    "$$\n",
    "\n",
    "**Hint:** you will find it easier if you **pre-allocate memory** to the list that stores the cumulative sum. \n",
    "\n",
    "You can pre-allocate memory in a list by doing `[a]*n` where `a` and `n` are some numbers. \n",
    "\n",
    "For instance to make a list of zeros that is five elements long:"
   ]
  },
  {
   "cell_type": "code",
   "execution_count": 9,
   "id": "4d784f00-a580-470c-b6bc-4c8c50f4f436",
   "metadata": {
    "scrolled": true
   },
   "outputs": [
    {
     "data": {
      "text/plain": [
       "[0, 0, 0, 0, 0]"
      ]
     },
     "execution_count": 9,
     "metadata": {},
     "output_type": "execute_result"
    }
   ],
   "source": [
    "[0]*5"
   ]
  },
  {
   "cell_type": "code",
   "execution_count": 34,
   "id": "6801164e-ec9c-420a-a446-576e4b736d21",
   "metadata": {},
   "outputs": [],
   "source": [
    "# write the function cumsum(X)\n",
    "\n",
    "def cumsum(X):\n",
    "    cumlist=[]\n",
    "    incrementingvar=0\n",
    "    for x in X:\n",
    "        incrementingvar=incrementingvar+x\n",
    "        cumlist.append(incrementingvar)\n",
    "    return cumlist\n",
    "\n"
   ]
  },
  {
   "cell_type": "code",
   "execution_count": 35,
   "id": "c3da5625-849e-4a10-a3fa-08e04277efa4",
   "metadata": {},
   "outputs": [
    {
     "name": "stdout",
     "output_type": "stream",
     "text": [
      "[0, 2, 6, 12, 20, 30, 42, 56, 72, 90]\n"
     ]
    }
   ],
   "source": [
    "# test your function on x_values\n",
    "print(cumsum(x_values))"
   ]
  },
  {
   "cell_type": "markdown",
   "id": "6ce8961a-8a76-4388-82a8-4384f66aa87b",
   "metadata": {},
   "source": [
    "# Question 6\n",
    "\n",
    "Write a function called `fibonnaci_sum_evens(n)` that calculates the sum of the even values of the first $n$ values of the [Fibonnaci Sequence](https://en.wikipedia.org/wiki/Fibonacci_number). Your function should generate the sequence, and *then* sum the even elements. Test your function on $n = 10$. \n",
    "\n",
    "Hint 1: you will again find it easier if you pre-allocate the list containing the Fibonacci sequence.\n",
    "\n",
    "Hint 2: you can use the `%` operator to determine if a value is even:"
   ]
  },
  {
   "cell_type": "code",
   "execution_count": 12,
   "id": "b9fe076d-9c7d-4ddc-a442-6de7f3feefe7",
   "metadata": {},
   "outputs": [
    {
     "data": {
      "text/plain": [
       "0"
      ]
     },
     "execution_count": 12,
     "metadata": {},
     "output_type": "execute_result"
    }
   ],
   "source": [
    "# an even number divided by 2 has no remainder\n",
    "2 % 2"
   ]
  },
  {
   "cell_type": "code",
   "execution_count": 13,
   "id": "f8fbac2f-cccf-47c6-b9f0-5a0f3c5499a3",
   "metadata": {},
   "outputs": [
    {
     "data": {
      "text/plain": [
       "1"
      ]
     },
     "execution_count": 13,
     "metadata": {},
     "output_type": "execute_result"
    }
   ],
   "source": [
    "# an odd number divided by 2 has a remainder\n",
    "3 % 2"
   ]
  },
  {
   "cell_type": "code",
   "execution_count": 36,
   "id": "4bcb090e-4d2c-4330-beb2-c3b38c7a6dd2",
   "metadata": {},
   "outputs": [],
   "source": [
    "# write the function fibonnaci_sum_evens(n)\n",
    "\n",
    "def fibonnaci_sum_evens(n):\n",
    "    fibonnaciList=[]\n",
    "    u=0\n",
    "    v=1\n",
    "    for i in (range(0,n)):\n",
    "        c=u+v\n",
    "        u=v\n",
    "        v=c\n",
    "        if v%2!=0:\n",
    "            continue\n",
    "        elif v%2==0:\n",
    "            fibonnaciList.append(v)\n",
    "    print(sum(fibonnaciList))\n"
   ]
  },
  {
   "cell_type": "code",
   "execution_count": 37,
   "id": "37ddfe45-cbac-4dca-971a-c7f22b4f0087",
   "metadata": {},
   "outputs": [
    {
     "name": "stdout",
     "output_type": "stream",
     "text": [
      "44\n"
     ]
    }
   ],
   "source": [
    "# test your function on n = 10\n",
    "fibonnaci_sum_evens(10)"
   ]
  }
 ],
 "metadata": {
  "kernelspec": {
   "display_name": "Python 3",
   "language": "python",
   "name": "python3"
  },
  "language_info": {
   "codemirror_mode": {
    "name": "ipython",
    "version": 3
   },
   "file_extension": ".py",
   "mimetype": "text/x-python",
   "name": "python",
   "nbconvert_exporter": "python",
   "pygments_lexer": "ipython3",
   "version": "3.8.8"
  },
  "toc-autonumbering": false
 },
 "nbformat": 4,
 "nbformat_minor": 5
}
