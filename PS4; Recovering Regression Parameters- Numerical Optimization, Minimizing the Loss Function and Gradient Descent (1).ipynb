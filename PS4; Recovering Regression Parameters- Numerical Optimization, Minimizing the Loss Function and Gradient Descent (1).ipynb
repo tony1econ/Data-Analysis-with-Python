{
 "cells": [
  {
   "cell_type": "markdown",
   "id": "fd51d7b2",
   "metadata": {},
   "source": [
    "# Your Name Here"
   ]
  },
  {
   "cell_type": "markdown",
   "id": "5f0c7571",
   "metadata": {},
   "source": [
    "# Instructions\n",
    "\n",
    "* Change \"Your Name Here\" to your name.\n",
    "* Fill in the empty chunks with your code. \n",
    "* Do not add any code chunks in your final submission besides the ones already here. \n",
    "* Use **no** additional modules other than:\n",
    "    - `numpy`\n",
    "    - `matplotlib`\n",
    "    - `statsmodels`"
   ]
  },
  {
   "cell_type": "code",
   "execution_count": 1,
   "id": "79cc04be",
   "metadata": {},
   "outputs": [],
   "source": [
    "# import modules here\n",
    "import numpy as np\n",
    "from scipy import optimize\n",
    "import matplotlib.pyplot as plt\n",
    "%matplotlib inline"
   ]
  },
  {
   "cell_type": "markdown",
   "id": "777e8945",
   "metadata": {},
   "source": [
    "# Question 1\n",
    "\n",
    "Consider \n",
    "\n",
    "$$\n",
    "y = f(x) = -5x^2 + 5x\n",
    "$$"
   ]
  },
  {
   "cell_type": "markdown",
   "id": "6bb81370",
   "metadata": {},
   "source": [
    "## Question 1.1\n",
    "\n",
    "Create an array `x` from -100 to 100 in steps of 0.01, then create `y` based on the $f(x)$, then plot it with labels. "
   ]
  },
  {
   "cell_type": "code",
   "execution_count": 2,
   "id": "233f0b97",
   "metadata": {},
   "outputs": [
    {
     "data": {
      "image/png": "[encoded data removed]",
      "text/plain": [
       "<Figure size 432x288 with 1 Axes>"
      ]
     },
     "metadata": {
      "needs_background": "light"
     },
     "output_type": "display_data"
    }
   ],
   "source": [
    "x = np.arange(-100, 100, 0.01)\n",
    "y = -5*x**2 + 5*x\n",
    "plt.plot(x,y)\n",
    "plt.xlabel(\"x\")\n",
    "plt.ylabel(\"y = f(x)\")\n",
    "plt.show()"
   ]
  },
  {
   "cell_type": "markdown",
   "id": "72c00bb1",
   "metadata": {},
   "source": [
    "## Question 1.2 \n",
    "\n",
    "Solve for $x^*$ and typeset your solutions with $\\LaTeX$.\n",
    "\n",
    "Here are some helpful tips. When using $\\LaTeX$ in Markdown (for instance, in a Jupyter notebook), you can create equation blocks with a double `$$...$$`, and you can align equations using `\\begin{align} ... \\end{align}`.\n",
    "\n",
    "For instance, this:\n",
    "\n",
    "\n",
    "```\n",
    "\\begin{align}\n",
    "y &= f(x_1, x_2) \\\\\n",
    "  &= x_1^2 + 2x_2^3\n",
    "\\end{align}\n",
    "$$\n",
    "```\n",
    "\n",
    "produces\n",
    "\n",
    "$$\n",
    "\\begin{align}\n",
    "y &= f(x_1, x_2) \\\\\n",
    "  &= x_1^2 + 2x_2^3\n",
    "\\end{align}\n",
    "$$\n",
    "\n",
    "and \n",
    "\n",
    "```\n",
    "$$\n",
    "\\frac{\\partial y}{\\partial x_1} = 2_x_1\n",
    "$$\n",
    "```\n",
    "\n",
    "produces\n",
    "\n",
    "$$\n",
    "\\frac{\\partial y}{\\partial x_1} = 2x_1\n",
    "$$"
   ]
  },
  {
   "cell_type": "markdown",
   "id": "0e214519",
   "metadata": {},
   "source": [
    "**[your math in this cell]**\n",
    "\n",
    "\n",
    "$$\n",
    "\\frac{\\partial y}{\\partial x} = -10x + 5 = 0\n",
    "$$\n",
    "\n",
    "$$\n",
    "x = 0.5\n",
    "$$\n",
    "\n",
    "with x = 0.5\n",
    "\n",
    "$$\n",
    "\\frac{\\partial y}{\\partial x^2} = -10 < 0 \n",
    "$$\n",
    "\n",
    "Hence, with $x^* = 0.5$, y reaches the maximum of 1.25."
   ]
  },
  {
   "cell_type": "markdown",
   "id": "57a02797",
   "metadata": {},
   "source": [
    "## Question 1.3\n",
    "\n",
    "Use `optimize.minimize()` from `scipy` to numerically solve the problem."
   ]
  },
  {
   "cell_type": "code",
   "execution_count": 4,
   "id": "9293ea6f",
   "metadata": {},
   "outputs": [],
   "source": [
    "# def your objective function here\n",
    "def f(x):\n",
    "    output = -5*x**2 + 5*x\n",
    "    return(-output) # make sure to invert it!"
   ]
  },
  {
   "cell_type": "code",
   "execution_count": 5,
   "id": "360d32ba",
   "metadata": {},
   "outputs": [
    {
     "data": {
      "text/plain": [
       "      fun: -1.25\n",
       " hess_inv: array([[1]])\n",
       "      jac: array([1.1920929e-07])\n",
       "  message: 'Optimization terminated successfully.'\n",
       "     nfev: 6\n",
       "      nit: 1\n",
       "     njev: 3\n",
       "   status: 0\n",
       "  success: True\n",
       "        x: array([0.5])"
      ]
     },
     "execution_count": 5,
     "metadata": {},
     "output_type": "execute_result"
    }
   ],
   "source": [
    "# optimize it\n",
    "optimize.minimize(fun = f, x0 = 1) "
   ]
  },
  {
   "cell_type": "markdown",
   "id": "4082d2fa",
   "metadata": {},
   "source": [
    "## Question 1.4 \n",
    "\n",
    "Confirm the value of the objective function at the optimal point."
   ]
  },
  {
   "cell_type": "code",
   "execution_count": 6,
   "id": "8f00124b",
   "metadata": {},
   "outputs": [
    {
     "data": {
      "text/plain": [
       "-1.25"
      ]
     },
     "execution_count": 6,
     "metadata": {},
     "output_type": "execute_result"
    }
   ],
   "source": [
    "f(x = 0.5)"
   ]
  },
  {
   "cell_type": "markdown",
   "id": "1f63addd",
   "metadata": {},
   "source": [
    "# Question 2\n",
    "\n",
    "## Question 2.1\n",
    "\n",
    "Simulate 1,000 draws from \n",
    "\n",
    "$$\n",
    "y = 1 + 2x + \\epsilon\n",
    "$$\n",
    "\n",
    "where $x$ and $\\epsilon$ are distributed standard normal."
   ]
  },
  {
   "cell_type": "code",
   "execution_count": 7,
   "id": "d385c339",
   "metadata": {},
   "outputs": [
    {
     "data": {
      "image/png": "[encoded data removed]",
      "text/plain": [
       "<Figure size 432x288 with 1 Axes>"
      ]
     },
     "metadata": {
      "needs_background": "light"
     },
     "output_type": "display_data"
    }
   ],
   "source": [
    "n = int(1e3)\n",
    "x = np.random.normal(loc = 0, scale = 1, size = n)\n",
    "y = 1 + 2*x + np.random.normal(loc = 0, scale = 1, size = n)\n",
    "plt.plot(x,y, 'bo', alpha = 0.5)\n",
    "plt.xlabel(\"x\")\n",
    "plt.ylabel(\"y = f(x)\")\n",
    "plt.show()"
   ]
  },
  {
   "cell_type": "markdown",
   "id": "44f107f1",
   "metadata": {},
   "source": [
    "## Question 2.2 \n",
    "\n",
    "Code a function `loss(b)` that implements\n",
    "\n",
    "$$\n",
    "\\begin{aligned}\n",
    "L(\\beta) &= \\sum_{i=1}^n (\\hat{y} - y)^2 \\\\\n",
    "         &= \\sum_{i=1}^n (\\beta_0 + \\hat{\\beta}_1 x - y)^2\n",
    "\\end{aligned}\n",
    "$$\n",
    "\n",
    "Your function should look like this:\n",
    "\n",
    "```python\n",
    "def loss(b):\n",
    "    # predicted value given parameters `b`\n",
    "    yhat = \n",
    "    # the error\n",
    "    error = \n",
    "    # the sum of squared errors\n",
    "    sse = \n",
    "    return(sse)\n",
    "```\n",
    "\n",
    "The argument `b` should be a list or numpy array. \n",
    "\n",
    "**Hint**: Remember you can subset an array `arr` with `[]` (e.g., `arr[0]` for the first element."
   ]
  },
  {
   "cell_type": "code",
   "execution_count": 8,
   "id": "f67bf661",
   "metadata": {},
   "outputs": [],
   "source": [
    "def loss(b):\n",
    "    yhat = b[0] + b[1]*x\n",
    "    error = yhat - y \n",
    "    sse = np.sum(error**2)\n",
    "    return(sse)"
   ]
  },
  {
   "cell_type": "markdown",
   "id": "00c68d18",
   "metadata": {},
   "source": [
    "## Question 2.2\n",
    "\n",
    "Check the loss when $\\beta_0 = 1$ and $\\beta_1 = 2$:"
   ]
  },
  {
   "cell_type": "code",
   "execution_count": 9,
   "id": "afee91f3",
   "metadata": {},
   "outputs": [
    {
     "data": {
      "text/plain": [
       "930.3435290600534"
      ]
     },
     "execution_count": 9,
     "metadata": {},
     "output_type": "execute_result"
    }
   ],
   "source": [
    "loss(b = [1,2])"
   ]
  },
  {
   "cell_type": "markdown",
   "id": "c7c0eb06",
   "metadata": {},
   "source": [
    "## Question 2.3\n",
    "\n",
    "Use `optimize.minimize` to optimize your loss function. \n",
    "\n",
    "**Hint**: You can pass a list or numpy array to `x0`."
   ]
  },
  {
   "cell_type": "code",
   "execution_count": 10,
   "id": "c18034a6",
   "metadata": {},
   "outputs": [
    {
     "data": {
      "text/plain": [
       "      fun: 930.1561048415696\n",
       " hess_inv: array([[ 4.99510680e-04, -4.31499046e-05],\n",
       "       [-4.31499046e-05,  4.13062552e-04]])\n",
       "      jac: array([-7.62939453e-06,  7.62939453e-06])\n",
       "  message: 'Optimization terminated successfully.'\n",
       "     nfev: 33\n",
       "      nit: 7\n",
       "     njev: 11\n",
       "   status: 0\n",
       "  success: True\n",
       "        x: array([0.99276304, 2.01158173])"
      ]
     },
     "execution_count": 10,
     "metadata": {},
     "output_type": "execute_result"
    }
   ],
   "source": [
    "optimize.minimize(fun = loss, x0 = [0,0])"
   ]
  },
  {
   "cell_type": "markdown",
   "id": "6ea400ed",
   "metadata": {},
   "source": [
    "# Question 3\n",
    "\n",
    "Solve the same problem above (as in, use the same `x` and `y` and loss function) using gradient descent. \n",
    "\n",
    "Set: \n",
    "\n",
    "* `n_iter` to 1000\n",
    "* `alpha` or `step_size` (pick one) to 0.01\n",
    "* the starting value of `b0_hat` to -10\n",
    "* the starting value of `b1_hat` to 10\n",
    "\n",
    "Print your results -- **just the final values of the estimated parameters** -- at the end of your cell."
   ]
  },
  {
   "cell_type": "code",
   "execution_count": 11,
   "id": "11098f16",
   "metadata": {},
   "outputs": [
    {
     "name": "stdout",
     "output_type": "stream",
     "text": [
      "0.992307005929387\n",
      "2.0119009519965685\n"
     ]
    }
   ],
   "source": [
    "n_iter = 1000\n",
    "b0_hat = -10\n",
    "b1_hat = 10\n",
    "alpha = 0.01\n",
    "N = len(y)\n",
    "for i in range(n_iter):\n",
    "    gradient_b0 = (1/N) * np.sum((b0_hat + b1_hat*x) - y)\n",
    "    gradient_b1 = (1/N) * np.sum(x * ((b0_hat + b1_hat*x) - y))\n",
    "    b0_hat -= alpha * gradient_b0\n",
    "    b1_hat -= alpha * gradient_b1\n",
    "print(b0_hat)\n",
    "print(b1_hat)"
   ]
  }
 ],
 "metadata": {
  "kernelspec": {
   "display_name": "Python 3",
   "language": "python",
   "name": "python3"
  },
  "language_info": {
   "codemirror_mode": {
    "name": "ipython",
    "version": 3
   },
   "file_extension": ".py",
   "mimetype": "text/x-python",
   "name": "python",
   "nbconvert_exporter": "python",
   "pygments_lexer": "ipython3",
   "version": "3.8.8"
  }
 },
 "nbformat": 4,
 "nbformat_minor": 5
}
